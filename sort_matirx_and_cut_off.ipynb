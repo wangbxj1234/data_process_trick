{
  "nbformat": 4,
  "nbformat_minor": 0,
  "metadata": {
    "colab": {
      "name": "sort_matirx_and_cut_off.ipynb",
      "provenance": [],
      "authorship_tag": "ABX9TyOKpTNkt8w5awIs2e1YTCFd",
      "include_colab_link": true
    },
    "kernelspec": {
      "name": "python3",
      "display_name": "Python 3"
    },
    "language_info": {
      "name": "python"
    }
  },
  "cells": [
    {
      "cell_type": "markdown",
      "metadata": {
        "id": "view-in-github",
        "colab_type": "text"
      },
      "source": [
        "<a href=\"https://colab.research.google.com/github/wangbxj1234/data_process_trick/blob/main/sort_matirx_and_cut_off.ipynb\" target=\"_parent\"><img src=\"https://colab.research.google.com/assets/colab-badge.svg\" alt=\"Open In Colab\"/></a>"
      ]
    },
    {
      "cell_type": "code",
      "metadata": {
        "id": "yN_DLKpp1LBP"
      },
      "source": [
        "import numpy as np\n",
        "k_weights=np.array([[3,2,1],[6,5,4]])\n",
        "\n",
        "kernel_weights = np.copy(k_weights)\n",
        "ind = np.unravel_index(\n",
        "        np.argsort(\n",
        "            np.abs(kernel_weights),\n",
        "            axis=None),\n",
        "        kernel_weights.shape)"
      ],
      "execution_count": 11,
      "outputs": []
    },
    {
      "cell_type": "code",
      "metadata": {
        "colab": {
          "base_uri": "https://localhost:8080/"
        },
        "id": "gGrkkRBH2Mk5",
        "outputId": "d97c5bd5-030c-4800-eb58-45f53e2cb0b5"
      },
      "source": [
        "print(np.argsort(np.abs(kernel_weights),axis=None))#After sorting, it becomes a one-dimensional array, and the position information becomes an integer."
      ],
      "execution_count": 12,
      "outputs": [
        {
          "output_type": "stream",
          "name": "stdout",
          "text": [
            "[2 1 0 5 4 3]\n"
          ]
        }
      ]
    },
    {
      "cell_type": "code",
      "metadata": {
        "colab": {
          "base_uri": "https://localhost:8080/"
        },
        "id": "-RMpQHDu2jTQ",
        "outputId": "2b42a4e9-cc4d-4016-d785-114f9f124f0b"
      },
      "source": [
        "print(ind)#unravel_index ：Get the position information from the 1-dimensional array while keep the order"
      ],
      "execution_count": 13,
      "outputs": [
        {
          "output_type": "stream",
          "name": "stdout",
          "text": [
            "(array([0, 0, 0, 1, 1, 1]), array([2, 1, 0, 2, 1, 0]))\n"
          ]
        }
      ]
    },
    {
      "cell_type": "code",
      "metadata": {
        "colab": {
          "base_uri": "https://localhost:8080/"
        },
        "id": "M8KFw9Bz3RjG",
        "outputId": "d0ae7023-8acf-454e-cac9-5e4bf79128eb"
      },
      "source": [
        "cutoff = int(len(ind[0])*0.8)\n",
        "\n",
        "sparse_cutoff_inds = (ind[0][0:cutoff], ind[1][0:cutoff])#position information of the index with the smallest weight according to the dimension,(0,2),(0,1),(0,0),(1,2)...\n",
        "kernel_weights[sparse_cutoff_inds] = 0.#cut off\n",
        "print(kernel_weights)     "
      ],
      "execution_count": 16,
      "outputs": [
        {
          "output_type": "stream",
          "name": "stdout",
          "text": [
            "[[0 0 0]\n",
            " [6 5 0]]\n"
          ]
        }
      ]
    }
  ]
}